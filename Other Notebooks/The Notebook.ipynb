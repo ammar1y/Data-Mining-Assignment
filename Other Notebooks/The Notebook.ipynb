{
 "cells": [
  {
   "cell_type": "markdown",
   "metadata": {},
   "source": [
    "<h1 style=\"font-size:230%; font-family:Lora; color:#b60a1c\">Data Mining Assignment (4th Milestone)</h1>\n",
    "<h3 style=\"font-family:Lora; font-style:italic; color:#e39802\">Ammar Alyousfi (WQD170064)</h3>\n",
    "\n",
    "<br>\n",
    "\n",
    "In this stage, we do the following:\n",
    "\n",
    "- Interpretation of qualitative data (News and Twitter posts)\n",
    "- Analysis of qualitative data (sentiment analysis)"
   ]
  },
  {
   "cell_type": "markdown",
   "metadata": {},
   "source": [
    "# Importing libraries"
   ]
  },
  {
   "cell_type": "code",
   "execution_count": 1,
   "metadata": {},
   "outputs": [],
   "source": [
    "import pandas as pd\n",
    "import numpy as np\n",
    "from IPython.display import HTML\n",
    "from matplotlib import pyplot as plt\n",
    "import re\n",
    "\n",
    "pd.set_option('display.max_colwidth', 80)"
   ]
  },
  {
   "cell_type": "markdown",
   "metadata": {},
   "source": [
    "<h1><span style=\"background:#272727; color:#d7ae04; font-size:1.1em\">&nbsp;Twitter Data </span></h1>"
   ]
  },
  {
   "cell_type": "markdown",
   "metadata": {},
   "source": [
    "# Reading the data"
   ]
  },
  {
   "cell_type": "code",
   "execution_count": 2,
   "metadata": {},
   "outputs": [],
   "source": [
    "tweets = pd.read_csv('/Users/ammar/Documents/CS-and-work/UM MDatSc/3rd sem'\n",
    "                     '/Data Mining/2nd Milestone/fullname_tweets.csv')"
   ]
  },
  {
   "cell_type": "markdown",
   "metadata": {},
   "source": [
    "# Taking a look at the data"
   ]
  },
  {
   "cell_type": "code",
   "execution_count": 3,
   "metadata": {
    "scrolled": false
   },
   "outputs": [
    {
     "data": {
      "text/html": [
       "<div>\n",
       "<style scoped>\n",
       "    .dataframe tbody tr th:only-of-type {\n",
       "        vertical-align: middle;\n",
       "    }\n",
       "\n",
       "    .dataframe tbody tr th {\n",
       "        vertical-align: top;\n",
       "    }\n",
       "\n",
       "    .dataframe thead th {\n",
       "        text-align: right;\n",
       "    }\n",
       "</style>\n",
       "<table border=\"1\" class=\"dataframe\">\n",
       "  <thead>\n",
       "    <tr style=\"text-align: right;\">\n",
       "      <th></th>\n",
       "      <th>company_fullname</th>\n",
       "      <th>tweet_text</th>\n",
       "      <th>favorite_count</th>\n",
       "      <th>created_at</th>\n",
       "      <th>hashtags</th>\n",
       "      <th>tweet_id</th>\n",
       "      <th>lang</th>\n",
       "      <th>urls</th>\n",
       "      <th>user_followers</th>\n",
       "      <th>user_screen_name</th>\n",
       "      <th>crawling_time</th>\n",
       "    </tr>\n",
       "  </thead>\n",
       "  <tbody>\n",
       "    <tr>\n",
       "      <th>18411</th>\n",
       "      <td>ZELAN</td>\n",
       "      <td>Hirukia? Zelan gustatzen zaigun sexua!! https://t.co/CDhgNimKUQ</td>\n",
       "      <td>0.0</td>\n",
       "      <td>Wed Mar 27 07:26:02 +0000 2019</td>\n",
       "      <td>NaN</td>\n",
       "      <td>1.110805e+18</td>\n",
       "      <td>eu</td>\n",
       "      <td>https://www.instagram.com/p/BvgNkDpgtuA/?utm_source=ig_twitter_share&amp;igshid=...</td>\n",
       "      <td>487.0</td>\n",
       "      <td>GaurDaBihar</td>\n",
       "      <td>2019-04-03|16:13</td>\n",
       "    </tr>\n",
       "    <tr>\n",
       "      <th>18412</th>\n",
       "      <td>ZELAN</td>\n",
       "      <td>@alif_aux Sedih gile doo...ni paling rendah selama aku kerja JUBM..\\n\\nTahun...</td>\n",
       "      <td>0.0</td>\n",
       "      <td>Wed Mar 27 07:09:17 +0000 2019</td>\n",
       "      <td>NaN</td>\n",
       "      <td>1.110801e+18</td>\n",
       "      <td>in</td>\n",
       "      <td>NaN</td>\n",
       "      <td>109.0</td>\n",
       "      <td>izzuddin_azman</td>\n",
       "      <td>2019-04-03|16:13</td>\n",
       "    </tr>\n",
       "    <tr>\n",
       "      <th>18413</th>\n",
       "      <td>ZELAN</td>\n",
       "      <td>RT @Zeukesan: Zelan heziko duzu ezagutzen ez dituzun gauzetan?\\n\\n¿Cómo vas ...</td>\n",
       "      <td>0.0</td>\n",
       "      <td>Wed Mar 27 06:36:44 +0000 2019</td>\n",
       "      <td>ParentalidadPositiva</td>\n",
       "      <td>1.110793e+18</td>\n",
       "      <td>eu</td>\n",
       "      <td>NaN</td>\n",
       "      <td>152.0</td>\n",
       "      <td>crisetxeandia</td>\n",
       "      <td>2019-04-03|16:13</td>\n",
       "    </tr>\n",
       "    <tr>\n",
       "      <th>18414</th>\n",
       "      <td>ZELAN</td>\n",
       "      <td>RT @Zeukesan: Zelan heziko duzu ezagutzen ez dituzun gauzetan?\\n\\n¿Cómo vas ...</td>\n",
       "      <td>0.0</td>\n",
       "      <td>Wed Mar 27 06:34:16 +0000 2019</td>\n",
       "      <td>ParentalidadPositiva</td>\n",
       "      <td>1.110792e+18</td>\n",
       "      <td>eu</td>\n",
       "      <td>NaN</td>\n",
       "      <td>41.0</td>\n",
       "      <td>PortuRupertoM</td>\n",
       "      <td>2019-04-03|16:13</td>\n",
       "    </tr>\n",
       "    <tr>\n",
       "      <th>18415</th>\n",
       "      <td>ZELAN</td>\n",
       "      <td>Nama                    : Zelan Algifari Denef\\n\\nTempat Lahir       : Jakar...</td>\n",
       "      <td>0.0</td>\n",
       "      <td>Wed Mar 27 05:54:10 +0000 2019</td>\n",
       "      <td>NaN</td>\n",
       "      <td>1.110782e+18</td>\n",
       "      <td>in</td>\n",
       "      <td>NaN</td>\n",
       "      <td>189.0</td>\n",
       "      <td>JIMINgers</td>\n",
       "      <td>2019-04-03|16:13</td>\n",
       "    </tr>\n",
       "  </tbody>\n",
       "</table>\n",
       "</div>"
      ],
      "text/plain": [
       "      company_fullname  \\\n",
       "18411            ZELAN   \n",
       "18412            ZELAN   \n",
       "18413            ZELAN   \n",
       "18414            ZELAN   \n",
       "18415            ZELAN   \n",
       "\n",
       "                                                                            tweet_text  \\\n",
       "18411                  Hirukia? Zelan gustatzen zaigun sexua!! https://t.co/CDhgNimKUQ   \n",
       "18412  @alif_aux Sedih gile doo...ni paling rendah selama aku kerja JUBM..\\n\\nTahun...   \n",
       "18413  RT @Zeukesan: Zelan heziko duzu ezagutzen ez dituzun gauzetan?\\n\\n¿Cómo vas ...   \n",
       "18414  RT @Zeukesan: Zelan heziko duzu ezagutzen ez dituzun gauzetan?\\n\\n¿Cómo vas ...   \n",
       "18415  Nama                    : Zelan Algifari Denef\\n\\nTempat Lahir       : Jakar...   \n",
       "\n",
       "       favorite_count                      created_at              hashtags  \\\n",
       "18411             0.0  Wed Mar 27 07:26:02 +0000 2019                   NaN   \n",
       "18412             0.0  Wed Mar 27 07:09:17 +0000 2019                   NaN   \n",
       "18413             0.0  Wed Mar 27 06:36:44 +0000 2019  ParentalidadPositiva   \n",
       "18414             0.0  Wed Mar 27 06:34:16 +0000 2019  ParentalidadPositiva   \n",
       "18415             0.0  Wed Mar 27 05:54:10 +0000 2019                   NaN   \n",
       "\n",
       "           tweet_id lang  \\\n",
       "18411  1.110805e+18   eu   \n",
       "18412  1.110801e+18   in   \n",
       "18413  1.110793e+18   eu   \n",
       "18414  1.110792e+18   eu   \n",
       "18415  1.110782e+18   in   \n",
       "\n",
       "                                                                                  urls  \\\n",
       "18411  https://www.instagram.com/p/BvgNkDpgtuA/?utm_source=ig_twitter_share&igshid=...   \n",
       "18412                                                                              NaN   \n",
       "18413                                                                              NaN   \n",
       "18414                                                                              NaN   \n",
       "18415                                                                              NaN   \n",
       "\n",
       "       user_followers user_screen_name     crawling_time  \n",
       "18411           487.0      GaurDaBihar  2019-04-03|16:13  \n",
       "18412           109.0   izzuddin_azman  2019-04-03|16:13  \n",
       "18413           152.0    crisetxeandia  2019-04-03|16:13  \n",
       "18414            41.0    PortuRupertoM  2019-04-03|16:13  \n",
       "18415           189.0        JIMINgers  2019-04-03|16:13  "
      ]
     },
     "execution_count": 3,
     "metadata": {},
     "output_type": "execute_result"
    }
   ],
   "source": [
    "tweets.tail()"
   ]
  },
  {
   "cell_type": "markdown",
   "metadata": {},
   "source": [
    "# Interpreting the data"
   ]
  },
  {
   "cell_type": "code",
   "execution_count": 4,
   "metadata": {},
   "outputs": [],
   "source": [
    "tweets_sample = tweets[tweets['lang'] == 'en'].sample(n=25, random_state=19)"
   ]
  },
  {
   "cell_type": "code",
   "execution_count": 5,
   "metadata": {
    "scrolled": false
   },
   "outputs": [
    {
     "data": {
      "text/html": [
       "<strong>DEGEM</strong><p>@tanya2rl Degem</p><hr>"
      ],
      "text/plain": [
       "<IPython.core.display.HTML object>"
      ]
     },
     "metadata": {},
     "output_type": "display_data"
    },
    {
     "data": {
      "text/html": [
       "<strong>WHITE HORSE</strong><p>RT @horseandhoof: #WinItWednesday March Prize Draw Prize Draw two light blue mugs with a white horse design  to enter Retweet ,Like and Fol…</p><hr>"
      ],
      "text/plain": [
       "<IPython.core.display.HTML object>"
      ]
     },
     "metadata": {},
     "output_type": "display_data"
    },
    {
     "data": {
      "text/html": [
       "<strong>MALTON</strong><p>RT @clmorgan: An authoritative Steve Roskams! 2019 is his last year directing the @UoYArchaeology fieldschool at Malton. https://t.co/h68aa…</p><hr>"
      ],
      "text/plain": [
       "<IPython.core.display.HTML object>"
      ]
     },
     "metadata": {},
     "output_type": "display_data"
    },
    {
     "data": {
      "text/html": [
       "<strong>MGB</strong><p>RT @bourdyot_: #MGB GT Sebring 1967 https://t.co/2QK70lF9zk</p><hr>"
      ],
      "text/plain": [
       "<IPython.core.display.HTML object>"
      ]
     },
     "metadata": {},
     "output_type": "display_data"
    },
    {
     "data": {
      "text/html": [
       "<strong>UEM EDGENTA</strong><p>RT @aintherecruiter: VACANCIES @ UEM EDGENTA BERHAD \n",
       "\n",
       "1) Mechanical Engineering\n",
       "2) Mechanical Executive\n",
       "3) Electrician\n",
       "4) Chargeman A4\n",
       "\n",
       "Sub…</p><hr>"
      ],
      "text/plain": [
       "<IPython.core.display.HTML object>"
      ]
     },
     "metadata": {},
     "output_type": "display_data"
    },
    {
     "data": {
      "text/html": [
       "<strong>SCICOM</strong><p>Scientific Committee meeting today. We’ll be discussing AKI; TFT reference intervals; and Biochemistry and women’s health #scicom</p><hr>"
      ],
      "text/plain": [
       "<IPython.core.display.HTML object>"
      ]
     },
     "metadata": {},
     "output_type": "display_data"
    },
    {
     "data": {
      "text/html": [
       "<strong>MALTON</strong><p>RT @nicklesfletch: @visitmalton @TalbotMalton Beautiful architecture in #Malton https://t.co/65oiL1yi92</p><hr>"
      ],
      "text/plain": [
       "<IPython.core.display.HTML object>"
      ]
     },
     "metadata": {},
     "output_type": "display_data"
    },
    {
     "data": {
      "text/html": [
       "<strong>PUBLIC BANK</strong><p>The @EIB is Europe's largest public bank. Right now, it's deciding whether or not to invest BILLIONS more toward fossil fuel projects. Let's raise our voices, tell the EIB to #StopFundingFossils, &amp; demand a #FossilFreeEIB. Take action: https://t.co/kaHsGcBj6e</p><hr>"
      ],
      "text/plain": [
       "<IPython.core.display.HTML object>"
      ]
     },
     "metadata": {},
     "output_type": "display_data"
    },
    {
     "data": {
      "text/html": [
       "<strong>WHITE HORSE</strong><p>RT @horseandhoof: #chesterhour March Prize Draw Prize Draw two light blue mugs with a white horse design  to enter Retweet ,Like and Follow…</p><hr>"
      ],
      "text/plain": [
       "<IPython.core.display.HTML object>"
      ]
     },
     "metadata": {},
     "output_type": "display_data"
    },
    {
     "data": {
      "text/html": [
       "<strong>SEERS</strong><p>Void Seers of a brutal cult known as the Creuxian Order have felt the ripples of her power across the vastness of space and time. https://t.co/JpYSKLV19C @JenifyrKaiser #ya #scifi</p><hr>"
      ],
      "text/plain": [
       "<IPython.core.display.HTML object>"
      ]
     },
     "metadata": {},
     "output_type": "display_data"
    },
    {
     "data": {
      "text/html": [
       "<strong>BURSA MALAYSIA</strong><p>I am honoured to be invited to speak for Bursa Malaysia in Wow Fiesta organised by The Star The Star Online - Women &amp; Money. It’s very important to have financial literacy so that we can make our own decision. Who... https://t.co/MbRnUDJ5iF</p><hr>"
      ],
      "text/plain": [
       "<IPython.core.display.HTML object>"
      ]
     },
     "metadata": {},
     "output_type": "display_data"
    },
    {
     "data": {
      "text/html": [
       "<strong>GOPENG</strong><p>RT @tshtfk: Hi Twitter users, I need your help. My uncle from Gopeng, Perak has been missing for almost 2 days (since 7/3/19). He’s having…</p><hr>"
      ],
      "text/plain": [
       "<IPython.core.display.HTML object>"
      ]
     },
     "metadata": {},
     "output_type": "display_data"
    },
    {
     "data": {
      "text/html": [
       "<strong>BRITISH AMERICAN TOBACCO</strong><p>$BTI British American Tobacco p.l.c. SEC Filing: Form 20-F https://t.co/5uB1wtLCzM</p><hr>"
      ],
      "text/plain": [
       "<IPython.core.display.HTML object>"
      ]
     },
     "metadata": {},
     "output_type": "display_data"
    },
    {
     "data": {
      "text/html": [
       "<strong>LOTTE CHEMICAL TITAN HOLDING</strong><p>RT @pngsenpai: South Korean petrochemical company Lotte Chemical Titan Holding helps Malaysian authorities in the effort to control chemica…</p><hr>"
      ],
      "text/plain": [
       "<IPython.core.display.HTML object>"
      ]
     },
     "metadata": {},
     "output_type": "display_data"
    },
    {
     "data": {
      "text/html": [
       "<strong>SUNWAY</strong><p>SuNwAy LaGoOn~~ 🌊 https://t.co/bLcHRMC2hu</p><hr>"
      ],
      "text/plain": [
       "<IPython.core.display.HTML object>"
      ]
     },
     "metadata": {},
     "output_type": "display_data"
    },
    {
     "data": {
      "text/html": [
       "<strong>NESTLE</strong><p>RT @CauseWereGuys: \"That's why i love nestle crunch\"  😂 🍫 https://t.co/u61LaP7urC</p><hr>"
      ],
      "text/plain": [
       "<IPython.core.display.HTML object>"
      ]
     },
     "metadata": {},
     "output_type": "display_data"
    },
    {
     "data": {
      "text/html": [
       "<strong>MINHO</strong><p>RT @OntaeRev: Jinki holding Taemin's hand so they could find Minho together https://t.co/7O28IHcaHC</p><hr>"
      ],
      "text/plain": [
       "<IPython.core.display.HTML object>"
      ]
     },
     "metadata": {},
     "output_type": "display_data"
    },
    {
     "data": {
      "text/html": [
       "<strong>GAMUDA</strong><p>Gamuda Land sent out a blast email for an open reg in an excel sheet for field football, ladies are welcomed, so i signed up. Guess what, Doucheface strikes again;\n",
       "\n",
       "D: Jiha, u sure u wanna play with boys?\n",
       "\n",
       "M: i mean i usually play mixed futsal and football. So im pretty sure</p><hr>"
      ],
      "text/plain": [
       "<IPython.core.display.HTML object>"
      ]
     },
     "metadata": {},
     "output_type": "display_data"
    },
    {
     "data": {
      "text/html": [
       "<strong>WHITE HORSE</strong><p>RT @horseandhoof: #MondayMotivation March Prize Draw Prize Draw two light blue mugs with a white horse design  to enter Retweet ,Like and F…</p><hr>"
      ],
      "text/plain": [
       "<IPython.core.display.HTML object>"
      ]
     },
     "metadata": {},
     "output_type": "display_data"
    },
    {
     "data": {
      "text/html": [
       "<strong>MISC</strong><p>RT @ramendates: into the trash where you belong 👋 (as angry as i am, i still recycled these into plastics, cardboard, paper and misc, so do…</p><hr>"
      ],
      "text/plain": [
       "<IPython.core.display.HTML object>"
      ]
     },
     "metadata": {},
     "output_type": "display_data"
    },
    {
     "data": {
      "text/html": [
       "<strong>BATU KAWAN</strong><p>hello ikea batu kawan will be opening tomorrow yas finally</p><hr>"
      ],
      "text/plain": [
       "<IPython.core.display.HTML object>"
      ]
     },
     "metadata": {},
     "output_type": "display_data"
    },
    {
     "data": {
      "text/html": [
       "<strong>MGB</strong><p>Factoid No:439-@neilmbriscoe @t2stu @TopOfTheTower @Nigel_Mutt @DarraghMcKenna @Roadster_Life One of the very 1st cars I looked for the factoids was the MGB, a successful sportscar which suffered a lot under BL &amp; yet managed to remain popular in spite of what they did to it. https://t.co/eb3R2UiqPa</p><hr>"
      ],
      "text/plain": [
       "<IPython.core.display.HTML object>"
      ]
     },
     "metadata": {},
     "output_type": "display_data"
    },
    {
     "data": {
      "text/html": [
       "<strong>PLENITUDE</strong><p>4) The second is Bonaventure's: divine unity, and so primacy, already involves the \"fontal plenitude\" by which the Father begets the Son; when a \"Gentile\" thinks of divine unity and aseity, he's thinking (de re) of the Father \"apart from his paternity\" (I Sent. d. 27, 1, 1, 2).</p><hr>"
      ],
      "text/plain": [
       "<IPython.core.display.HTML object>"
      ]
     },
     "metadata": {},
     "output_type": "display_data"
    },
    {
     "data": {
      "text/html": [
       "<strong>WHITE HORSE</strong><p>Also: New White Horse Owner Insists Bar's 'Spirit' To Stay | Safety Woes As Hudson Yards Opens | Mayor's $10B Plan To 'Climate-Proof' FiDi https://t.co/MP7BQGsJNE</p><hr>"
      ],
      "text/plain": [
       "<IPython.core.display.HTML object>"
      ]
     },
     "metadata": {},
     "output_type": "display_data"
    },
    {
     "data": {
      "text/html": [
       "<strong>WHITE HORSE</strong><p>RT @horseandhoof: #WinItWednesday March Prize Draw Prize Draw two light blue mugs with a white horse design  to enter Retweet ,Like and Fol…</p><hr>"
      ],
      "text/plain": [
       "<IPython.core.display.HTML object>"
      ]
     },
     "metadata": {},
     "output_type": "display_data"
    }
   ],
   "source": [
    "for tweet_text, company_name in zip(\n",
    "    tweets_sample['tweet_text'].values, \n",
    "    tweets_sample['company_fullname'].values):\n",
    "    display(HTML(\"<strong>\" + company_name + \"</strong><p>\" + tweet_text + \"</p><hr>\"))"
   ]
  },
  {
   "cell_type": "markdown",
   "metadata": {},
   "source": [
    "<p style='font-size:20px; color:#981C2D; font-weight: bold'>&#10233; We will consider Twitter data irrelevant</p>"
   ]
  },
  {
   "cell_type": "markdown",
   "metadata": {},
   "source": [
    "<hr>\n",
    "<h1><span style=\"background:#272727; color:#d7ae04; font-size:1.1em\">&nbsp;News Data </span></h1>"
   ]
  },
  {
   "cell_type": "markdown",
   "metadata": {},
   "source": [
    "# Reading the data"
   ]
  },
  {
   "cell_type": "code",
   "execution_count": 6,
   "metadata": {},
   "outputs": [],
   "source": [
    "news = pd.read_csv('theedgemarkets_news_corporate.csv')"
   ]
  },
  {
   "cell_type": "markdown",
   "metadata": {},
   "source": [
    "# Taking a look at the data"
   ]
  },
  {
   "cell_type": "code",
   "execution_count": 7,
   "metadata": {},
   "outputs": [
    {
     "data": {
      "text/plain": [
       "(338890, 8)"
      ]
     },
     "execution_count": 7,
     "metadata": {},
     "output_type": "execute_result"
    }
   ],
   "source": [
    "news.shape"
   ]
  },
  {
   "cell_type": "code",
   "execution_count": 8,
   "metadata": {},
   "outputs": [
    {
     "data": {
      "text/html": [
       "<div>\n",
       "<style scoped>\n",
       "    .dataframe tbody tr th:only-of-type {\n",
       "        vertical-align: middle;\n",
       "    }\n",
       "\n",
       "    .dataframe tbody tr th {\n",
       "        vertical-align: top;\n",
       "    }\n",
       "\n",
       "    .dataframe thead th {\n",
       "        text-align: right;\n",
       "    }\n",
       "</style>\n",
       "<table border=\"1\" class=\"dataframe\">\n",
       "  <thead>\n",
       "    <tr style=\"text-align: right;\">\n",
       "      <th></th>\n",
       "      <th>company_symbol</th>\n",
       "      <th>company_fullname</th>\n",
       "      <th>headline</th>\n",
       "      <th>url</th>\n",
       "      <th>datetime</th>\n",
       "      <th>text</th>\n",
       "      <th>in_headline</th>\n",
       "      <th>is_fullname</th>\n",
       "    </tr>\n",
       "  </thead>\n",
       "  <tbody>\n",
       "    <tr>\n",
       "      <th>0</th>\n",
       "      <td>BURSA</td>\n",
       "      <td>BURSA MALAYSIA</td>\n",
       "      <td>Foreign funds turn net sellers as outflows exceed inflows</td>\n",
       "      <td>https://www.theedgemarkets.com/article/foreign-funds-turn-net-sellers-outflo...</td>\n",
       "      <td>March 29, 2019 21:28 pm +08</td>\n",
       "      <td>KUALA LUMPUR (March 29): Foreign institutions turned net sellers in the FBM ...</td>\n",
       "      <td>No</td>\n",
       "      <td>Yes</td>\n",
       "    </tr>\n",
       "    <tr>\n",
       "      <th>1</th>\n",
       "      <td>BURSA-C18</td>\n",
       "      <td>BURSA MALAYSIA</td>\n",
       "      <td>Foreign funds turn net sellers as outflows exceed inflows</td>\n",
       "      <td>https://www.theedgemarkets.com/article/foreign-funds-turn-net-sellers-outflo...</td>\n",
       "      <td>March 29, 2019 21:28 pm +08</td>\n",
       "      <td>KUALA LUMPUR (March 29): Foreign institutions turned net sellers in the FBM ...</td>\n",
       "      <td>No</td>\n",
       "      <td>Yes</td>\n",
       "    </tr>\n",
       "    <tr>\n",
       "      <th>2</th>\n",
       "      <td>BURSA-C20</td>\n",
       "      <td>BURSA MALAYSIA</td>\n",
       "      <td>Foreign funds turn net sellers as outflows exceed inflows</td>\n",
       "      <td>https://www.theedgemarkets.com/article/foreign-funds-turn-net-sellers-outflo...</td>\n",
       "      <td>March 29, 2019 21:28 pm +08</td>\n",
       "      <td>KUALA LUMPUR (March 29): Foreign institutions turned net sellers in the FBM ...</td>\n",
       "      <td>No</td>\n",
       "      <td>Yes</td>\n",
       "    </tr>\n",
       "    <tr>\n",
       "      <th>3</th>\n",
       "      <td>BURSA-C21</td>\n",
       "      <td>BURSA MALAYSIA</td>\n",
       "      <td>Foreign funds turn net sellers as outflows exceed inflows</td>\n",
       "      <td>https://www.theedgemarkets.com/article/foreign-funds-turn-net-sellers-outflo...</td>\n",
       "      <td>March 29, 2019 21:28 pm +08</td>\n",
       "      <td>KUALA LUMPUR (March 29): Foreign institutions turned net sellers in the FBM ...</td>\n",
       "      <td>No</td>\n",
       "      <td>Yes</td>\n",
       "    </tr>\n",
       "    <tr>\n",
       "      <th>4</th>\n",
       "      <td>BURSA-C22</td>\n",
       "      <td>BURSA MALAYSIA</td>\n",
       "      <td>Foreign funds turn net sellers as outflows exceed inflows</td>\n",
       "      <td>https://www.theedgemarkets.com/article/foreign-funds-turn-net-sellers-outflo...</td>\n",
       "      <td>March 29, 2019 21:28 pm +08</td>\n",
       "      <td>KUALA LUMPUR (March 29): Foreign institutions turned net sellers in the FBM ...</td>\n",
       "      <td>No</td>\n",
       "      <td>Yes</td>\n",
       "    </tr>\n",
       "  </tbody>\n",
       "</table>\n",
       "</div>"
      ],
      "text/plain": [
       "  company_symbol company_fullname  \\\n",
       "0          BURSA   BURSA MALAYSIA   \n",
       "1      BURSA-C18   BURSA MALAYSIA   \n",
       "2      BURSA-C20   BURSA MALAYSIA   \n",
       "3      BURSA-C21   BURSA MALAYSIA   \n",
       "4      BURSA-C22   BURSA MALAYSIA   \n",
       "\n",
       "                                                    headline  \\\n",
       "0  Foreign funds turn net sellers as outflows exceed inflows   \n",
       "1  Foreign funds turn net sellers as outflows exceed inflows   \n",
       "2  Foreign funds turn net sellers as outflows exceed inflows   \n",
       "3  Foreign funds turn net sellers as outflows exceed inflows   \n",
       "4  Foreign funds turn net sellers as outflows exceed inflows   \n",
       "\n",
       "                                                                               url  \\\n",
       "0  https://www.theedgemarkets.com/article/foreign-funds-turn-net-sellers-outflo...   \n",
       "1  https://www.theedgemarkets.com/article/foreign-funds-turn-net-sellers-outflo...   \n",
       "2  https://www.theedgemarkets.com/article/foreign-funds-turn-net-sellers-outflo...   \n",
       "3  https://www.theedgemarkets.com/article/foreign-funds-turn-net-sellers-outflo...   \n",
       "4  https://www.theedgemarkets.com/article/foreign-funds-turn-net-sellers-outflo...   \n",
       "\n",
       "                      datetime  \\\n",
       "0  March 29, 2019 21:28 pm +08   \n",
       "1  March 29, 2019 21:28 pm +08   \n",
       "2  March 29, 2019 21:28 pm +08   \n",
       "3  March 29, 2019 21:28 pm +08   \n",
       "4  March 29, 2019 21:28 pm +08   \n",
       "\n",
       "                                                                              text  \\\n",
       "0  KUALA LUMPUR (March 29): Foreign institutions turned net sellers in the FBM ...   \n",
       "1  KUALA LUMPUR (March 29): Foreign institutions turned net sellers in the FBM ...   \n",
       "2  KUALA LUMPUR (March 29): Foreign institutions turned net sellers in the FBM ...   \n",
       "3  KUALA LUMPUR (March 29): Foreign institutions turned net sellers in the FBM ...   \n",
       "4  KUALA LUMPUR (March 29): Foreign institutions turned net sellers in the FBM ...   \n",
       "\n",
       "  in_headline is_fullname  \n",
       "0          No         Yes  \n",
       "1          No         Yes  \n",
       "2          No         Yes  \n",
       "3          No         Yes  \n",
       "4          No         Yes  "
      ]
     },
     "execution_count": 8,
     "metadata": {},
     "output_type": "execute_result"
    }
   ],
   "source": [
    "news.head()"
   ]
  },
  {
   "cell_type": "markdown",
   "metadata": {},
   "source": [
    "# Interpreting the data"
   ]
  },
  {
   "cell_type": "code",
   "execution_count": 9,
   "metadata": {},
   "outputs": [],
   "source": [
    "news_sample = news.sample(n=25, random_state=33)"
   ]
  },
  {
   "cell_type": "code",
   "execution_count": 10,
   "metadata": {
    "scrolled": false
   },
   "outputs": [
    {
     "data": {
      "text/html": [
       "<strong>TENAGA NASIONAL</strong>"
      ],
      "text/plain": [
       "<IPython.core.display.HTML object>"
      ]
     },
     "metadata": {},
     "output_type": "display_data"
    },
    {
     "data": {
      "text/html": [
       "<p><em>Body:  </em>id-cap stocks could be in the limelight, thanks to the government's mandate to GLC funds in Budget 2017 to allocate up to RM3 billion to invest in this space.\n",
       "Dass said AmBank Research’s top Buys are Tenaga Nasional Bhd, Public Bank Bhd, RHB Bank Bhd, Gamuda Bhd, Malaysian Resources Corporation Bhd, Sunway Bhd, Bermaz Auto Bhd, V.S. Industry Bhd, OldTown Bhd and Sasbadi Holdings Bhd.\n",
       "</p><hr>"
      ],
      "text/plain": [
       "<IPython.core.display.HTML object>"
      ]
     },
     "metadata": {},
     "output_type": "display_data"
    },
    {
     "data": {
      "text/html": [
       "<strong>BURSA MALAYSIA</strong>"
      ],
      "text/plain": [
       "<IPython.core.display.HTML object>"
      ]
     },
     "metadata": {},
     "output_type": "display_data"
    },
    {
     "data": {
      "text/html": [
       "<p><em>Headline:  </em> Bursa Malaysia publicly reprimands Lay Hong, fines 8 directors RM750,000</p><hr>"
      ],
      "text/plain": [
       "<IPython.core.display.HTML object>"
      ]
     },
     "metadata": {},
     "output_type": "display_data"
    },
    {
     "data": {
      "text/html": [
       "<strong>POS MALAYSIA</strong>"
      ],
      "text/plain": [
       "<IPython.core.display.HTML object>"
      ]
     },
     "metadata": {},
     "output_type": "display_data"
    },
    {
     "data": {
      "text/html": [
       "<p><em>Body:  </em>e government recently announced that goods bought online will be exempted from tax in the DFTZ so long as the goods are worth RM1,200 and below, a higher threshold than the earlier RM500 price range.\n",
       "Pos Malaysia Bhd will also be part of the e-fulfilment hub as it is running its warehouse and logistics business out of the old LCCT. At this point, it is not certain how other logistics players like </p><hr>"
      ],
      "text/plain": [
       "<IPython.core.display.HTML object>"
      ]
     },
     "metadata": {},
     "output_type": "display_data"
    },
    {
     "data": {
      "text/html": [
       "<strong>AMMB HOLDINGS</strong>"
      ],
      "text/plain": [
       "<IPython.core.display.HTML object>"
      ]
     },
     "metadata": {},
     "output_type": "display_data"
    },
    {
     "data": {
      "text/html": [
       "<p><em>Body:  </em>d ANZ's plan to sell its non-core businesses, including its domestic wealth business and minority stakes in Shanghai Rural Commercial Bank Co, Bank of Tianjin Co, PT Bank Pan Indonesia and Malaysia's AMMB Holdings Bhd, would help transform its culture.\n",
       "\"I figure a smaller, simpler bank will be easier to manage,\" he told a Reuters Newsmaker event earlier in the day. \"We should do less things for le</p><hr>"
      ],
      "text/plain": [
       "<IPython.core.display.HTML object>"
      ]
     },
     "metadata": {},
     "output_type": "display_data"
    },
    {
     "data": {
      "text/html": [
       "<strong>ALAM MARITIM RESOURCES</strong>"
      ],
      "text/plain": [
       "<IPython.core.display.HTML object>"
      ]
     },
     "metadata": {},
     "output_type": "display_data"
    },
    {
     "data": {
      "text/html": [
       "<p><em>Body:  </em>Alam Maritim Resources Bhd\n",
       "(June 27, 14 sen)\n",
       "Upgrade to market perform with a higher target price (TP) of 13 sen: On Tuesday, Alam Maritim Resources Bhd made its first contract announcement of the yea</p><hr>"
      ],
      "text/plain": [
       "<IPython.core.display.HTML object>"
      ]
     },
     "metadata": {},
     "output_type": "display_data"
    },
    {
     "data": {
      "text/html": [
       "<strong>PETRONAS GAS</strong>"
      ],
      "text/plain": [
       "<IPython.core.display.HTML object>"
      ]
     },
     "metadata": {},
     "output_type": "display_data"
    },
    {
     "data": {
      "text/html": [
       "<p><em>Body:  </em>KUALA LUMPUR (Nov 10): Petronas Gas Bhd (PetGas) announced today that its net profit for the third quarter ended Sept 30, 2017 (3QFY17) slipped a marginal 1.2% to RM417.43 million, from RM422.71 million a year ago, as a res</p><hr>"
      ],
      "text/plain": [
       "<IPython.core.display.HTML object>"
      ]
     },
     "metadata": {},
     "output_type": "display_data"
    },
    {
     "data": {
      "text/html": [
       "<strong>AXIATA GROUP</strong>"
      ],
      "text/plain": [
       "<IPython.core.display.HTML object>"
      ]
     },
     "metadata": {},
     "output_type": "display_data"
    },
    {
     "data": {
      "text/html": [
       "<p><em>Body:  </em>cing IoT.\n",
       "Those watching corporate developments in Malaysia will have noticed the sudden flurry of IoT deals announced to Bursa Malaysia in recent months. One of the bigger collaborations was between Axiata Group Bhd and Yen Global Bhd’s unit Atilze Digital Sdn Bhd to pursue IoT solutions in the region. Last September, Axiata and Yen Global said they would be working on pilot projects for connecte</p><hr>"
      ],
      "text/plain": [
       "<IPython.core.display.HTML object>"
      ]
     },
     "metadata": {},
     "output_type": "display_data"
    },
    {
     "data": {
      "text/html": [
       "<strong>HIBISCUS PETROLEUM</strong>"
      ],
      "text/plain": [
       "<IPython.core.display.HTML object>"
      ]
     },
     "metadata": {},
     "output_type": "display_data"
    },
    {
     "data": {
      "text/html": [
       "<p><em>Body:  </em>maniaga Holdings Bhd and Kawan Food Bhd.\n",
       "The actives included Sapura Energy Bhd, Orion IXL Bhd, Globaltec Formation Bhd, Velesto Energy Bhd, Hiap Teck Venture Bhd, Vivocom International Holdings Bhd, Hibiscus Petroleum Bhd and AirAsia Bhd.\n",
       "The gainers included Scientex Bhd, Carlsberg Brewery Malaysia Bhd, QL Resources Bhd, Malayan Banking Bhd, Ajinomoto (M) Bhd, AirAsia, Hartalega Holdings Bhd and</p><hr>"
      ],
      "text/plain": [
       "<IPython.core.display.HTML object>"
      ]
     },
     "metadata": {},
     "output_type": "display_data"
    },
    {
     "data": {
      "text/html": [
       "<strong>UTUSAN MELAYU</strong>"
      ],
      "text/plain": [
       "<IPython.core.display.HTML object>"
      ]
     },
     "metadata": {},
     "output_type": "display_data"
    },
    {
     "data": {
      "text/html": [
       "<p><em>Body:  </em>KUALA LUMPUR (Sept 5): Industrial chemicals distributor Nylex (Malaysia) Bhd and media company Redberry Sdn Bhd – both subsidiaries of Ancom Bhd – are suing Utusan Melayu (Malaysia) Bhd for failure to refund deposits totalling RM18.5 million.\n",
       "In a filing with Bursa Malaysia today, Utusan said it had been served on Sept 4 with a writ of summons and stateme</p><hr>"
      ],
      "text/plain": [
       "<IPython.core.display.HTML object>"
      ]
     },
     "metadata": {},
     "output_type": "display_data"
    },
    {
     "data": {
      "text/html": [
       "<strong>TELEKOM MALAYSIA</strong>"
      ],
      "text/plain": [
       "<IPython.core.display.HTML object>"
      ]
     },
     "metadata": {},
     "output_type": "display_data"
    },
    {
     "data": {
      "text/html": [
       "<p><em>Body:  </em>r & Neave Holdings Bhd, Gamuda Bhd, IHH Healthcare Bhd, Malakoff Corp Bhd, Malayan Banking Bhd, Maxis Bhd, Nestlé (M) Bhd, PETRONAS,Public Bank Bhd, Sime Darby Bhd, SP Setia Bhd, Tenaga Nasional Bhd, Telekom Malaysia Bhd, Westports Holdings Bhd and YTL Corp Bhd.\n",
       "In making the announcement, PwC Malaysia managing partner Sridharan Nair says businesses should take up the responsibility of developing </p><hr>"
      ],
      "text/plain": [
       "<IPython.core.display.HTML object>"
      ]
     },
     "metadata": {},
     "output_type": "display_data"
    },
    {
     "data": {
      "text/html": [
       "<strong>SAPURA ENERGY</strong>"
      ],
      "text/plain": [
       "<IPython.core.display.HTML object>"
      ]
     },
     "metadata": {},
     "output_type": "display_data"
    },
    {
     "data": {
      "text/html": [
       "<p><em>Body:  </em>ia Bhd, Tenaga Nasional Bhd, Astro Malaysia Holdings Bhd, VS Industry Bhd, PUC Bhd, Media Chinese International Ltd, DKLS Industries Bhd, Priceworth International Bhd, Titijaya Land Bhd, Cuscapi Bhd, Sapura Energy Bhd, OCK Group Bhd and EA Technique (M) Sdn Bhd.\n",
       "</p><hr>"
      ],
      "text/plain": [
       "<IPython.core.display.HTML object>"
      ]
     },
     "metadata": {},
     "output_type": "display_data"
    },
    {
     "data": {
      "text/html": [
       "<strong>HIBISCUS PETROLEUM</strong>"
      ],
      "text/plain": [
       "<IPython.core.display.HTML object>"
      ]
     },
     "metadata": {},
     "output_type": "display_data"
    },
    {
     "data": {
      "text/html": [
       "<p><em>Body:  </em>a Keluarga Bhd, IJM Plantations Bhd, British American Tobacco (M) Bhd, DiGi.Com Bhd, MISC Bhd and Tenaga Nasional Bhd.\n",
       "The actives included Seacera Group Bhd, My EG Services Bhd, Tatt Giap Group Bhd, Hibiscus Petroleum, Gamuda Bhd and Datasonic Group Bhd.\n",
       "The decliners included ViTrox Corp Bhd, Batu Kawan Bhd, Carlsberg Brewery Malaysia Bhd, MSM Malaysia Holdings Bhd, Apollo Food Holdings Bhd, Nes</p><hr>"
      ],
      "text/plain": [
       "<IPython.core.display.HTML object>"
      ]
     },
     "metadata": {},
     "output_type": "display_data"
    },
    {
     "data": {
      "text/html": [
       "<strong>GENTING MALAYSIA</strong>"
      ],
      "text/plain": [
       "<IPython.core.display.HTML object>"
      ]
     },
     "metadata": {},
     "output_type": "display_data"
    },
    {
     "data": {
      "text/html": [
       "<p><em>Body:  </em>KUALA LUMPUR (Feb 27): Based on corporate announcements and news flow today, stocks in focus on Thursday (Feb 28) may include: MAA Group Bhd, AirAsia Bhd, Genting Malaysia Bhd, Genting Bhd, Pos Malaysia Bhd, Hengyuan Refining Co Bhd, UMW Holdings Bhd, Sime Darby Property Bhd, TH Heavy Engineering Bhd, IHH Healthcare Bhd, MMC Corp Bhd, Serba Dinamik Hold</p><hr>"
      ],
      "text/plain": [
       "<IPython.core.display.HTML object>"
      ]
     },
     "metadata": {},
     "output_type": "display_data"
    },
    {
     "data": {
      "text/html": [
       "<strong>TELEKOM MALAYSIA</strong>"
      ],
      "text/plain": [
       "<IPython.core.display.HTML object>"
      ]
     },
     "metadata": {},
     "output_type": "display_data"
    },
    {
     "data": {
      "text/html": [
       "<p><em>Body:  </em>KUALA LUMPUR: Telekom Malaysia Bhd (TM), which got a new group chief executive officer (CEO) on May 1, has revealed more management changes effective May 15.\n",
       "In a statement yesterday, TM said its financial controll</p><hr>"
      ],
      "text/plain": [
       "<IPython.core.display.HTML object>"
      ]
     },
     "metadata": {},
     "output_type": "display_data"
    },
    {
     "data": {
      "text/html": [
       "<strong>CIMB GROUP HOLDINGS</strong>"
      ],
      "text/plain": [
       "<IPython.core.display.HTML object>"
      ]
     },
     "metadata": {},
     "output_type": "display_data"
    },
    {
     "data": {
      "text/html": [
       "<p><em>Body:  </em>This article first appeared in The Edge Financial Daily, on March 22, 2017.\n",
       " \n",
       "CIMB Group Holdings Bhd\n",
       "(March 21, RM5.65)Maintain buy with a higher fair value (FV) of RM6.30: There are firmer indications of a potential completion of the joint-venture (JV) deal for CIMB Group Hol</p><hr>"
      ],
      "text/plain": [
       "<IPython.core.display.HTML object>"
      ]
     },
     "metadata": {},
     "output_type": "display_data"
    },
    {
     "data": {
      "text/html": [
       "<strong>BURSA MALAYSIA</strong>"
      ],
      "text/plain": [
       "<IPython.core.display.HTML object>"
      ]
     },
     "metadata": {},
     "output_type": "display_data"
    },
    {
     "data": {
      "text/html": [
       "<p><em>Body:  </em>ter Industries Bhd, AirAsia X Bhd, Globaltec Formation Bhd, Priceworth International Bhd, Dagang NeXchange Bhd, Visdynamics Holdings Bhd, Tiger Synergy Bhd and NetX Holdings Bhd.\n",
       "The gainers included Bursa Malaysia Bhd, ViTrox Corporation Bhd, Batu Kawan Bhd, Visdynamics, Selangor Properties Bhd, Malaysia Airports Holdings Bhd, Serba Dinamik Holdings Bhd and Toyo Ink Group Bhd.\n",
       "Sterling extended l</p><hr>"
      ],
      "text/plain": [
       "<IPython.core.display.HTML object>"
      ]
     },
     "metadata": {},
     "output_type": "display_data"
    },
    {
     "data": {
      "text/html": [
       "<strong>UMW HOLDINGS</strong>"
      ],
      "text/plain": [
       "<IPython.core.display.HTML object>"
      ]
     },
     "metadata": {},
     "output_type": "display_data"
    },
    {
     "data": {
      "text/html": [
       "<p><em>Headline:  </em> UMW Holdings makes cash call for MBM takeover</p><hr>"
      ],
      "text/plain": [
       "<IPython.core.display.HTML object>"
      ]
     },
     "metadata": {},
     "output_type": "display_data"
    },
    {
     "data": {
      "text/html": [
       "<strong>TELEKOM MALAYSIA</strong>"
      ],
      "text/plain": [
       "<IPython.core.display.HTML object>"
      ]
     },
     "metadata": {},
     "output_type": "display_data"
    },
    {
     "data": {
      "text/html": [
       "<p><em>Body:  </em>cted by profit-taking activities in selected counters.\n",
       "\"There is also a sharp selldown in the broader market as earnings results have been mixed with a slight bias towards negative,\" Low said, citing Telekom Malaysia Bhd as an example.\n",
       "He added that the selling pressure in the broader market has been ongoing for a while.\n",
       "On the regional front, Japan's Nikkei 225 was up by 0.09% or 21.28 points to </p><hr>"
      ],
      "text/plain": [
       "<IPython.core.display.HTML object>"
      ]
     },
     "metadata": {},
     "output_type": "display_data"
    },
    {
     "data": {
      "text/html": [
       "<strong>BRITISH AMERICAN TOBACCO</strong>"
      ],
      "text/plain": [
       "<IPython.core.display.HTML object>"
      ]
     },
     "metadata": {},
     "output_type": "display_data"
    },
    {
     "data": {
      "text/html": [
       "<p><em>Body:  </em> gains at mid-morning today as sentiment stayed cautious.\n",
       "At 10am, the FBM KLCI was up 0.66 points to 1,744.59. The index had earlier risen to a high of 1,747.17.\n",
       "The gainers included Nestle (M) Bhd, British American Tobacco (M) Bhd, PMB Technology Bhd, Kim Loong Resources Bhd, Batu Kawan Bhd, Malaysian Pacific Industries Bhd, Press Metal Aluminium Holdings Bhd, Top Glove Corp Bhd and Malaysia Sme</p><hr>"
      ],
      "text/plain": [
       "<IPython.core.display.HTML object>"
      ]
     },
     "metadata": {},
     "output_type": "display_data"
    },
    {
     "data": {
      "text/html": [
       "<strong>GAMUDA</strong>"
      ],
      "text/plain": [
       "<IPython.core.display.HTML object>"
      ]
     },
     "metadata": {},
     "output_type": "display_data"
    },
    {
     "data": {
      "text/html": [
       "<p><em>Body:  </em>ssional architects, insurance underwriters and all occupants of the building, which could be you and me with our families,” he said.\n",
       "The symposium was organised by EdgeProp.my at Hilton Kuala Lumpur.\n",
       "Gamuda Land was the presenting sponsor while the supporting sponsor was Nippon Paint Malaysia.\n",
       "The half-day event was also supported by The Edge Malaysia.\n",
       "For the full coverage on the symposium, read </p><hr>"
      ],
      "text/plain": [
       "<IPython.core.display.HTML object>"
      ]
     },
     "metadata": {},
     "output_type": "display_data"
    },
    {
     "data": {
      "text/html": [
       "<strong>DAGANG NEXCHANGE</strong>"
      ],
      "text/plain": [
       "<IPython.core.display.HTML object>"
      ]
     },
     "metadata": {},
     "output_type": "display_data"
    },
    {
     "data": {
      "text/html": [
       "<p><em>Body:  </em>KUALA LUMPUR: Dagang Nexchange Bhd (DNeX) plans to sell its 51% stake in Forward Energy Sdn Bhd (FESB) to FESB managing director Datuk Azmi Abdullah for a nominal sum of RM1.\n",
       "Azmi and his wife Datin Zarinah Md Shar</p><hr>"
      ],
      "text/plain": [
       "<IPython.core.display.HTML object>"
      ]
     },
     "metadata": {},
     "output_type": "display_data"
    },
    {
     "data": {
      "text/html": [
       "<strong>MALAYSIA AIRPORTS HOLDINGS</strong>"
      ],
      "text/plain": [
       "<IPython.core.display.HTML object>"
      ]
     },
     "metadata": {},
     "output_type": "display_data"
    },
    {
     "data": {
      "text/html": [
       "<p><em>Body:  </em>WITH a string of overseas divestments this year, Malaysia Airports Holdings Bhd (MAHB) appears to be scaling back its overseas presence amid signs of structural changes at home.\n",
       "When posed the question, acting group CEO Raja Azmi Raja Nazuddin indic</p><hr>"
      ],
      "text/plain": [
       "<IPython.core.display.HTML object>"
      ]
     },
     "metadata": {},
     "output_type": "display_data"
    },
    {
     "data": {
      "text/html": [
       "<strong>MALAYAN BANKING</strong>"
      ],
      "text/plain": [
       "<IPython.core.display.HTML object>"
      ]
     },
     "metadata": {},
     "output_type": "display_data"
    },
    {
     "data": {
      "text/html": [
       "<p><em>Body:  </em>p companies for IR, respectively.\n",
       "Meanwhile, Inari Amertron Bhd’s Lau Kean Cheong and Gabungan AQRS Bhd’s Datuk Azizan Jaafar won the best CEOs for IR awards, under the mid- and small-cap categories.\n",
       "Malayan Banking Bhd’s Datuk Amirul Feisal Wan Zahir was named the best chief financial officer (CFO) for IR under the large-cap category, while Lim Cheong Guan of Top Glove Corp Bhd and Ng Chin Wah of</p><hr>"
      ],
      "text/plain": [
       "<IPython.core.display.HTML object>"
      ]
     },
     "metadata": {},
     "output_type": "display_data"
    },
    {
     "data": {
      "text/html": [
       "<strong>HANG SENG INDEX</strong>"
      ],
      "text/plain": [
       "<IPython.core.display.HTML object>"
      ]
     },
     "metadata": {},
     "output_type": "display_data"
    },
    {
     "data": {
      "text/html": [
       "<p><em>Body:  </em>seeing a rally: Emerging markets also made a roaring comeback, even outperforming the Dow after a disappointing 2016.\n",
       "Most Asian equity indices recorded at least double-digit growth, with Hong Kong’s Hang Seng Index emerging as one of the top performers (it surged 31.1% to 28,848.11 points).\n",
       "A strong performance was also seen in European markets: Germany’s DAX has soared 14.1% YTD while France’s C</p><hr>"
      ],
      "text/plain": [
       "<IPython.core.display.HTML object>"
      ]
     },
     "metadata": {},
     "output_type": "display_data"
    },
    {
     "data": {
      "text/html": [
       "<strong>SAPURA ENERGY</strong>"
      ],
      "text/plain": [
       "<IPython.core.display.HTML object>"
      ]
     },
     "metadata": {},
     "output_type": "display_data"
    },
    {
     "data": {
      "text/html": [
       "<p><em>Body:  </em>t, to 2,914.99 and the Nasdaq Composite added 10.05 points, or 0.13 percent, to 8,003.29, said Reuters.\n",
       "Based on corporate announcements and news flow yesterday, companies in focus today may include: Sapura Energy Bhd, ECM Libra Financial Group Bhd, Hai-O Enterprise Bhd, Velesto Energy Bhd, Maxwell International Holdings Bhd, Deleum Bhd, Pestech International Bhd, OpenSys (M) Bhd, Sumatec Resource</p><hr>"
      ],
      "text/plain": [
       "<IPython.core.display.HTML object>"
      ]
     },
     "metadata": {},
     "output_type": "display_data"
    }
   ],
   "source": [
    "for row in news_sample.itertuples():\n",
    "    if row.is_fullname == 'Yes':\n",
    "        display(HTML(\"<strong>\" + row.company_fullname + \"</strong>\"))\n",
    "    else:\n",
    "        display(HTML(\"<strong>\" + row.company_symbol + \"</strong>\"))\n",
    "        \n",
    "    if row.in_headline == 'Yes':\n",
    "        display(HTML(\"<p><em>Headline:  </em> \" + row.headline + \"</p><hr>\"))\n",
    "    else:\n",
    "        if row.is_fullname == 'Yes': \n",
    "            ind = row.text.lower().find(row.company_fullname.lower())\n",
    "        else: \n",
    "            ind = row.text.lower().find(row.company_symbol.lower())\n",
    "        excerpt = row.text[ind-200:ind+200]\n",
    "        if (ind-200) < 0:\n",
    "            excerpt = row.text[:ind+200]\n",
    "        if (ind+200) > (len(row.text)-1):\n",
    "            excerpt = row.text[ind-200:]\n",
    "        display(HTML(\"<p><em>Body:  </em>\" + excerpt + \"</p><hr>\"))"
   ]
  },
  {
   "cell_type": "markdown",
   "metadata": {},
   "source": [
    "# Sentiment analysis of the news data\n",
    "\n",
    "We will use a Python library, [TextBlob](https://github.com/sloria/textblob). <mark>TextBlob</mark> is a Python library for processing textual data; it stands on the giant shoulders of NLTK and pattern, and plays nicely with both.\n",
    "\n",
    "The textblob.sentiments module contains two sentiment analysis implementations, **`PatternAnalyzer`**(based on the pattern library) and **`NaiveBayesAnalyzer`** (an NLTK classifier trained on a movie reviews corpus).\n",
    "\n",
    "For `PatternAnalyzer`, the polarity score is a float within the range [-1.0, 1.0]. The subjectivity is a float within the range [0.0, 1.0] where 0.0 is very objective and 1.0 is very subjective."
   ]
  },
  {
   "cell_type": "code",
   "execution_count": 11,
   "metadata": {},
   "outputs": [],
   "source": [
    "from textblob import TextBlob\n",
    "from textblob.sentiments import NaiveBayesAnalyzer\n",
    "NBA = NaiveBayesAnalyzer()"
   ]
  },
  {
   "cell_type": "code",
   "execution_count": 12,
   "metadata": {},
   "outputs": [
    {
     "data": {
      "text/html": [
       "<h3>The sentence: “The company is very good”</h3>"
      ],
      "text/plain": [
       "<IPython.core.display.HTML object>"
      ]
     },
     "metadata": {},
     "output_type": "display_data"
    },
    {
     "data": {
      "text/html": [
       "<h4>PatternAnalyzer</h4>"
      ],
      "text/plain": [
       "<IPython.core.display.HTML object>"
      ]
     },
     "metadata": {},
     "output_type": "display_data"
    },
    {
     "data": {
      "text/html": [
       "<p style='font-family:\"Roboto Mono\"'>Sentiment(polarity=0.9099999999999999, subjectivity=0.7800000000000001)</p>"
      ],
      "text/plain": [
       "<IPython.core.display.HTML object>"
      ]
     },
     "metadata": {},
     "output_type": "display_data"
    },
    {
     "data": {
      "text/html": [
       "<h4>NaiveBayesAnalyzer</h4>"
      ],
      "text/plain": [
       "<IPython.core.display.HTML object>"
      ]
     },
     "metadata": {},
     "output_type": "display_data"
    },
    {
     "data": {
      "text/html": [
       "<p style='font-family:\"Roboto Mono\"'>Sentiment(classification='pos', p_pos=0.5951532906617912, p_neg=0.4048467093382089)</p>"
      ],
      "text/plain": [
       "<IPython.core.display.HTML object>"
      ]
     },
     "metadata": {},
     "output_type": "display_data"
    }
   ],
   "source": [
    "display(HTML(\"<h3>The sentence: “The company is very good”</h3>\"))\n",
    "display(HTML(\"<h4>PatternAnalyzer</h4>\"))\n",
    "b = TextBlob(\"The company is very good\")\n",
    "display(HTML(\"<p style='font-family:\\\"Roboto Mono\\\"'>\" + str(b.sentiment) + \"</p>\"))\n",
    "display(HTML(\"<h4>NaiveBayesAnalyzer</h4>\"))\n",
    "b = TextBlob(\"The company is very good\", analyzer=NBA)\n",
    "display(HTML(\"<p style='font-family:\\\"Roboto Mono\\\"'>\" + str(b.sentiment) + \"</p>\"))"
   ]
  },
  {
   "cell_type": "code",
   "execution_count": 13,
   "metadata": {},
   "outputs": [],
   "source": [
    "def get_excerpt(row, limit=100):\n",
    "    if row.in_headline == 'No':\n",
    "        if row.is_fullname == 'Yes': \n",
    "            ind = row.text.lower().find(row.company_fullname.lower())\n",
    "        elif row.is_fullname == 'No': \n",
    "            ind = row.text.lower().find(row.company_symbol.lower())\n",
    "        excerpt = row.text[ind-limit:ind+limit]\n",
    "        if (ind-limit) < 0:\n",
    "            excerpt = row.text[:ind+limit]\n",
    "        if (ind+limit) > (len(row.text)-1):\n",
    "            excerpt = row.text[ind-limit:]\n",
    "        return excerpt\n",
    "    else:\n",
    "        return \"\"\n",
    "\n",
    "def get_sentiment_1(row):\n",
    "    if row.in_headline == 'Yes':\n",
    "        sentiment_text = row.headline\n",
    "    else:\n",
    "        sentiment_text = row.excerpt\n",
    "    pattern_sentiment = TextBlob(sentiment_text).sentiment.polarity\n",
    "    return pattern_sentiment\n",
    "    \n",
    "def get_sentiment_2(row):\n",
    "    if row.in_headline == 'Yes':\n",
    "        sentiment_text = row.headline\n",
    "    else:\n",
    "        sentiment_text = row.excerpt\n",
    "    nltk_sentiment = TextBlob(sentiment_text, analyzer=NBA).sentiment\n",
    "    nltk_sentiment = nltk_sentiment.p_pos - nltk_sentiment.p_neg\n",
    "    return nltk_sentiment"
   ]
  },
  {
   "cell_type": "code",
   "execution_count": 14,
   "metadata": {},
   "outputs": [],
   "source": [
    "news['excerpt'] = news.apply(func=get_excerpt, axis=1)\n",
    "news['sentiment_1'] = news.apply(func=get_sentiment_1, axis=1)\n",
    "news['sentiment_2'] = news.apply(func=get_sentiment_2, axis=1)"
   ]
  },
  {
   "cell_type": "code",
   "execution_count": 24,
   "metadata": {},
   "outputs": [
    {
     "data": {
      "text/html": [
       "<div>\n",
       "<style scoped>\n",
       "    .dataframe tbody tr th:only-of-type {\n",
       "        vertical-align: middle;\n",
       "    }\n",
       "\n",
       "    .dataframe tbody tr th {\n",
       "        vertical-align: top;\n",
       "    }\n",
       "\n",
       "    .dataframe thead th {\n",
       "        text-align: right;\n",
       "    }\n",
       "</style>\n",
       "<table border=\"1\" class=\"dataframe\">\n",
       "  <thead>\n",
       "    <tr style=\"text-align: right;\">\n",
       "      <th></th>\n",
       "      <th>company_symbol</th>\n",
       "      <th>company_fullname</th>\n",
       "      <th>headline</th>\n",
       "      <th>url</th>\n",
       "      <th>datetime</th>\n",
       "      <th>text</th>\n",
       "      <th>in_headline</th>\n",
       "      <th>is_fullname</th>\n",
       "      <th>excerpt</th>\n",
       "      <th>sentiment_1</th>\n",
       "      <th>sentiment_2</th>\n",
       "    </tr>\n",
       "  </thead>\n",
       "  <tbody>\n",
       "    <tr>\n",
       "      <th>0</th>\n",
       "      <td>BURSA</td>\n",
       "      <td>BURSA MALAYSIA</td>\n",
       "      <td>Foreign funds turn net sellers as outflows exceed inflows</td>\n",
       "      <td>https://www.theedgemarkets.com/article/foreign-funds-turn-net-sellers-outflo...</td>\n",
       "      <td>March 29, 2019 21:28 pm +08</td>\n",
       "      <td>KUALA LUMPUR (March 29): Foreign institutions turned net sellers in the FBM ...</td>\n",
       "      <td>No</td>\n",
       "      <td>Yes</td>\n",
       "      <td>ployment rate. So, we think the market will be very cautious next week,” he ...</td>\n",
       "      <td>0.115</td>\n",
       "      <td>0.995938</td>\n",
       "    </tr>\n",
       "    <tr>\n",
       "      <th>1</th>\n",
       "      <td>BURSA-C18</td>\n",
       "      <td>BURSA MALAYSIA</td>\n",
       "      <td>Foreign funds turn net sellers as outflows exceed inflows</td>\n",
       "      <td>https://www.theedgemarkets.com/article/foreign-funds-turn-net-sellers-outflo...</td>\n",
       "      <td>March 29, 2019 21:28 pm +08</td>\n",
       "      <td>KUALA LUMPUR (March 29): Foreign institutions turned net sellers in the FBM ...</td>\n",
       "      <td>No</td>\n",
       "      <td>Yes</td>\n",
       "      <td>ployment rate. So, we think the market will be very cautious next week,” he ...</td>\n",
       "      <td>0.115</td>\n",
       "      <td>0.995938</td>\n",
       "    </tr>\n",
       "    <tr>\n",
       "      <th>2</th>\n",
       "      <td>BURSA-C20</td>\n",
       "      <td>BURSA MALAYSIA</td>\n",
       "      <td>Foreign funds turn net sellers as outflows exceed inflows</td>\n",
       "      <td>https://www.theedgemarkets.com/article/foreign-funds-turn-net-sellers-outflo...</td>\n",
       "      <td>March 29, 2019 21:28 pm +08</td>\n",
       "      <td>KUALA LUMPUR (March 29): Foreign institutions turned net sellers in the FBM ...</td>\n",
       "      <td>No</td>\n",
       "      <td>Yes</td>\n",
       "      <td>ployment rate. So, we think the market will be very cautious next week,” he ...</td>\n",
       "      <td>0.115</td>\n",
       "      <td>0.995938</td>\n",
       "    </tr>\n",
       "    <tr>\n",
       "      <th>3</th>\n",
       "      <td>BURSA-C21</td>\n",
       "      <td>BURSA MALAYSIA</td>\n",
       "      <td>Foreign funds turn net sellers as outflows exceed inflows</td>\n",
       "      <td>https://www.theedgemarkets.com/article/foreign-funds-turn-net-sellers-outflo...</td>\n",
       "      <td>March 29, 2019 21:28 pm +08</td>\n",
       "      <td>KUALA LUMPUR (March 29): Foreign institutions turned net sellers in the FBM ...</td>\n",
       "      <td>No</td>\n",
       "      <td>Yes</td>\n",
       "      <td>ployment rate. So, we think the market will be very cautious next week,” he ...</td>\n",
       "      <td>0.115</td>\n",
       "      <td>0.995938</td>\n",
       "    </tr>\n",
       "    <tr>\n",
       "      <th>4</th>\n",
       "      <td>BURSA-C22</td>\n",
       "      <td>BURSA MALAYSIA</td>\n",
       "      <td>Foreign funds turn net sellers as outflows exceed inflows</td>\n",
       "      <td>https://www.theedgemarkets.com/article/foreign-funds-turn-net-sellers-outflo...</td>\n",
       "      <td>March 29, 2019 21:28 pm +08</td>\n",
       "      <td>KUALA LUMPUR (March 29): Foreign institutions turned net sellers in the FBM ...</td>\n",
       "      <td>No</td>\n",
       "      <td>Yes</td>\n",
       "      <td>ployment rate. So, we think the market will be very cautious next week,” he ...</td>\n",
       "      <td>0.115</td>\n",
       "      <td>0.995938</td>\n",
       "    </tr>\n",
       "  </tbody>\n",
       "</table>\n",
       "</div>"
      ],
      "text/plain": [
       "  company_symbol company_fullname  \\\n",
       "0          BURSA   BURSA MALAYSIA   \n",
       "1      BURSA-C18   BURSA MALAYSIA   \n",
       "2      BURSA-C20   BURSA MALAYSIA   \n",
       "3      BURSA-C21   BURSA MALAYSIA   \n",
       "4      BURSA-C22   BURSA MALAYSIA   \n",
       "\n",
       "                                                    headline  \\\n",
       "0  Foreign funds turn net sellers as outflows exceed inflows   \n",
       "1  Foreign funds turn net sellers as outflows exceed inflows   \n",
       "2  Foreign funds turn net sellers as outflows exceed inflows   \n",
       "3  Foreign funds turn net sellers as outflows exceed inflows   \n",
       "4  Foreign funds turn net sellers as outflows exceed inflows   \n",
       "\n",
       "                                                                               url  \\\n",
       "0  https://www.theedgemarkets.com/article/foreign-funds-turn-net-sellers-outflo...   \n",
       "1  https://www.theedgemarkets.com/article/foreign-funds-turn-net-sellers-outflo...   \n",
       "2  https://www.theedgemarkets.com/article/foreign-funds-turn-net-sellers-outflo...   \n",
       "3  https://www.theedgemarkets.com/article/foreign-funds-turn-net-sellers-outflo...   \n",
       "4  https://www.theedgemarkets.com/article/foreign-funds-turn-net-sellers-outflo...   \n",
       "\n",
       "                      datetime  \\\n",
       "0  March 29, 2019 21:28 pm +08   \n",
       "1  March 29, 2019 21:28 pm +08   \n",
       "2  March 29, 2019 21:28 pm +08   \n",
       "3  March 29, 2019 21:28 pm +08   \n",
       "4  March 29, 2019 21:28 pm +08   \n",
       "\n",
       "                                                                              text  \\\n",
       "0  KUALA LUMPUR (March 29): Foreign institutions turned net sellers in the FBM ...   \n",
       "1  KUALA LUMPUR (March 29): Foreign institutions turned net sellers in the FBM ...   \n",
       "2  KUALA LUMPUR (March 29): Foreign institutions turned net sellers in the FBM ...   \n",
       "3  KUALA LUMPUR (March 29): Foreign institutions turned net sellers in the FBM ...   \n",
       "4  KUALA LUMPUR (March 29): Foreign institutions turned net sellers in the FBM ...   \n",
       "\n",
       "  in_headline is_fullname  \\\n",
       "0          No         Yes   \n",
       "1          No         Yes   \n",
       "2          No         Yes   \n",
       "3          No         Yes   \n",
       "4          No         Yes   \n",
       "\n",
       "                                                                           excerpt  \\\n",
       "0  ployment rate. So, we think the market will be very cautious next week,” he ...   \n",
       "1  ployment rate. So, we think the market will be very cautious next week,” he ...   \n",
       "2  ployment rate. So, we think the market will be very cautious next week,” he ...   \n",
       "3  ployment rate. So, we think the market will be very cautious next week,” he ...   \n",
       "4  ployment rate. So, we think the market will be very cautious next week,” he ...   \n",
       "\n",
       "   sentiment_1  sentiment_2  \n",
       "0        0.115     0.995938  \n",
       "1        0.115     0.995938  \n",
       "2        0.115     0.995938  \n",
       "3        0.115     0.995938  \n",
       "4        0.115     0.995938  "
      ]
     },
     "execution_count": 24,
     "metadata": {},
     "output_type": "execute_result"
    }
   ],
   "source": [
    "news.head()"
   ]
  },
  {
   "cell_type": "code",
   "execution_count": 15,
   "metadata": {},
   "outputs": [],
   "source": [
    "news_headlines = news[news.in_headline == 'Yes']"
   ]
  },
  {
   "cell_type": "code",
   "execution_count": 16,
   "metadata": {},
   "outputs": [
    {
     "data": {
      "text/html": [
       "<div>\n",
       "<style scoped>\n",
       "    .dataframe tbody tr th:only-of-type {\n",
       "        vertical-align: middle;\n",
       "    }\n",
       "\n",
       "    .dataframe tbody tr th {\n",
       "        vertical-align: top;\n",
       "    }\n",
       "\n",
       "    .dataframe thead th {\n",
       "        text-align: right;\n",
       "    }\n",
       "</style>\n",
       "<table border=\"1\" class=\"dataframe\">\n",
       "  <thead>\n",
       "    <tr style=\"text-align: right;\">\n",
       "      <th></th>\n",
       "      <th>company_symbol</th>\n",
       "      <th>company_fullname</th>\n",
       "      <th>headline</th>\n",
       "      <th>url</th>\n",
       "      <th>datetime</th>\n",
       "      <th>text</th>\n",
       "      <th>in_headline</th>\n",
       "      <th>is_fullname</th>\n",
       "      <th>excerpt</th>\n",
       "      <th>sentiment_1</th>\n",
       "      <th>sentiment_2</th>\n",
       "    </tr>\n",
       "  </thead>\n",
       "  <tbody>\n",
       "    <tr>\n",
       "      <th>10</th>\n",
       "      <td>VERTICE</td>\n",
       "      <td>VERTICE</td>\n",
       "      <td>Vertice and main sub-con mutually terminate RM218.5 mil contract</td>\n",
       "      <td>https://www.theedgemarkets.com/article/vertice-and-main-subcon-mutually-term...</td>\n",
       "      <td>March 29, 2019 21:20 pm +08</td>\n",
       "      <td>KUALA LUMPUR (March 29): Vertice Bhd and Kumpulan Liziz Sdn Bhd have mutuall...</td>\n",
       "      <td>Yes</td>\n",
       "      <td>Yes</td>\n",
       "      <td></td>\n",
       "      <td>0.166667</td>\n",
       "      <td>-0.252416</td>\n",
       "    </tr>\n",
       "    <tr>\n",
       "      <th>16</th>\n",
       "      <td>DBHD</td>\n",
       "      <td>DAMANSARA REALTY</td>\n",
       "      <td>Damansara Realty sells shop-office in JB to major shareholder</td>\n",
       "      <td>https://www.theedgemarkets.com/article/damansara-realty-sells-shopoffice-jb-...</td>\n",
       "      <td>March 29, 2019 21:09 pm +08</td>\n",
       "      <td>KUALA LUMPUR (March 29): Damansara Realty Bhd is disposing of a shop-office ...</td>\n",
       "      <td>Yes</td>\n",
       "      <td>Yes</td>\n",
       "      <td></td>\n",
       "      <td>0.062500</td>\n",
       "      <td>-0.022472</td>\n",
       "    </tr>\n",
       "    <tr>\n",
       "      <th>22</th>\n",
       "      <td>SUNWAY</td>\n",
       "      <td>SUNWAY</td>\n",
       "      <td>Sunway to buy quarry and premix plant operator to penetrate into new markets</td>\n",
       "      <td>https://www.theedgemarkets.com/article/sunway-buy-quarry-and-premix-plant-op...</td>\n",
       "      <td>March 29, 2019 20:46 pm +08</td>\n",
       "      <td>KUALA LUMPUR (March 29): Sunway Bhd is acquiring Blacktop Industries Sdn Bhd...</td>\n",
       "      <td>Yes</td>\n",
       "      <td>Yes</td>\n",
       "      <td></td>\n",
       "      <td>0.136364</td>\n",
       "      <td>-0.780629</td>\n",
       "    </tr>\n",
       "    <tr>\n",
       "      <th>23</th>\n",
       "      <td>SUNWAY-CQ</td>\n",
       "      <td>SUNWAY</td>\n",
       "      <td>Sunway to buy quarry and premix plant operator to penetrate into new markets</td>\n",
       "      <td>https://www.theedgemarkets.com/article/sunway-buy-quarry-and-premix-plant-op...</td>\n",
       "      <td>March 29, 2019 20:46 pm +08</td>\n",
       "      <td>KUALA LUMPUR (March 29): Sunway Bhd is acquiring Blacktop Industries Sdn Bhd...</td>\n",
       "      <td>Yes</td>\n",
       "      <td>Yes</td>\n",
       "      <td></td>\n",
       "      <td>0.136364</td>\n",
       "      <td>-0.780629</td>\n",
       "    </tr>\n",
       "    <tr>\n",
       "      <th>24</th>\n",
       "      <td>SUNWAY-CR</td>\n",
       "      <td>SUNWAY</td>\n",
       "      <td>Sunway to buy quarry and premix plant operator to penetrate into new markets</td>\n",
       "      <td>https://www.theedgemarkets.com/article/sunway-buy-quarry-and-premix-plant-op...</td>\n",
       "      <td>March 29, 2019 20:46 pm +08</td>\n",
       "      <td>KUALA LUMPUR (March 29): Sunway Bhd is acquiring Blacktop Industries Sdn Bhd...</td>\n",
       "      <td>Yes</td>\n",
       "      <td>Yes</td>\n",
       "      <td></td>\n",
       "      <td>0.136364</td>\n",
       "      <td>-0.780629</td>\n",
       "    </tr>\n",
       "  </tbody>\n",
       "</table>\n",
       "</div>"
      ],
      "text/plain": [
       "   company_symbol  company_fullname  \\\n",
       "10        VERTICE           VERTICE   \n",
       "16           DBHD  DAMANSARA REALTY   \n",
       "22         SUNWAY            SUNWAY   \n",
       "23      SUNWAY-CQ            SUNWAY   \n",
       "24      SUNWAY-CR            SUNWAY   \n",
       "\n",
       "                                                                        headline  \\\n",
       "10              Vertice and main sub-con mutually terminate RM218.5 mil contract   \n",
       "16                 Damansara Realty sells shop-office in JB to major shareholder   \n",
       "22  Sunway to buy quarry and premix plant operator to penetrate into new markets   \n",
       "23  Sunway to buy quarry and premix plant operator to penetrate into new markets   \n",
       "24  Sunway to buy quarry and premix plant operator to penetrate into new markets   \n",
       "\n",
       "                                                                                url  \\\n",
       "10  https://www.theedgemarkets.com/article/vertice-and-main-subcon-mutually-term...   \n",
       "16  https://www.theedgemarkets.com/article/damansara-realty-sells-shopoffice-jb-...   \n",
       "22  https://www.theedgemarkets.com/article/sunway-buy-quarry-and-premix-plant-op...   \n",
       "23  https://www.theedgemarkets.com/article/sunway-buy-quarry-and-premix-plant-op...   \n",
       "24  https://www.theedgemarkets.com/article/sunway-buy-quarry-and-premix-plant-op...   \n",
       "\n",
       "                       datetime  \\\n",
       "10  March 29, 2019 21:20 pm +08   \n",
       "16  March 29, 2019 21:09 pm +08   \n",
       "22  March 29, 2019 20:46 pm +08   \n",
       "23  March 29, 2019 20:46 pm +08   \n",
       "24  March 29, 2019 20:46 pm +08   \n",
       "\n",
       "                                                                               text  \\\n",
       "10  KUALA LUMPUR (March 29): Vertice Bhd and Kumpulan Liziz Sdn Bhd have mutuall...   \n",
       "16  KUALA LUMPUR (March 29): Damansara Realty Bhd is disposing of a shop-office ...   \n",
       "22  KUALA LUMPUR (March 29): Sunway Bhd is acquiring Blacktop Industries Sdn Bhd...   \n",
       "23  KUALA LUMPUR (March 29): Sunway Bhd is acquiring Blacktop Industries Sdn Bhd...   \n",
       "24  KUALA LUMPUR (March 29): Sunway Bhd is acquiring Blacktop Industries Sdn Bhd...   \n",
       "\n",
       "   in_headline is_fullname excerpt  sentiment_1  sentiment_2  \n",
       "10         Yes         Yes             0.166667    -0.252416  \n",
       "16         Yes         Yes             0.062500    -0.022472  \n",
       "22         Yes         Yes             0.136364    -0.780629  \n",
       "23         Yes         Yes             0.136364    -0.780629  \n",
       "24         Yes         Yes             0.136364    -0.780629  "
      ]
     },
     "execution_count": 16,
     "metadata": {},
     "output_type": "execute_result"
    }
   ],
   "source": [
    "news_headlines.head()"
   ]
  },
  {
   "cell_type": "code",
   "execution_count": 17,
   "metadata": {},
   "outputs": [],
   "source": [
    "news_headlines = news_headlines.drop_duplicates(subset=['company_fullname', 'url'])\n",
    "grouped = news_headlines.groupby('company_symbol')"
   ]
  },
  {
   "cell_type": "markdown",
   "metadata": {},
   "source": [
    "# The number of news articles about companies"
   ]
  },
  {
   "cell_type": "code",
   "execution_count": 18,
   "metadata": {},
   "outputs": [
    {
     "data": {
      "image/png": "[encoded data removed]",
      "text/plain": [
       "<Figure size 1152x648 with 1 Axes>"
      ]
     },
     "metadata": {},
     "output_type": "display_data"
    }
   ],
   "source": [
    "sizes = []\n",
    "for name, group in grouped:\n",
    "    sizes.append(group.shape[0])\n",
    "plt.figure(figsize=(16, 9))\n",
    "plt.hist(sizes, bins=100, color='tab:green', log=True);"
   ]
  },
  {
   "cell_type": "code",
   "execution_count": 19,
   "metadata": {},
   "outputs": [],
   "source": [
    "def plot_sentiment(group, which='1', figsize=(16,10), color='tab:green'):\n",
    "    group = group.copy()\n",
    "    group['datetime'] = group.datetime.str.replace(r'am', r'AM')\n",
    "    group['datetime'] = group.datetime.str.replace(r'pm', r'PM')\n",
    "    group['datetime'] = group.datetime.str.replace(r' (AM|PM) \\+\\d\\d$', '')\n",
    "    group['datetime'] = pd.to_datetime(group.datetime, format='%B %d, %Y %H:%M')\n",
    "    group.index = group.datetime\n",
    "    group.drop('datetime', axis=1, inplace=True)\n",
    "    group.sort_index(inplace=True)\n",
    "    fig, ax = plt.subplots(figsize=figsize)\n",
    "    if which == '1':\n",
    "        ax.plot(group.sentiment_1, color=color, linewidth=2)\n",
    "    elif which == '2':\n",
    "        ax.plot(group.sentiment_2, color='tab:orange', linewidth=2)\n",
    "    elif which == 'both':\n",
    "        ax.plot(group.sentiment_1, color=color, linewidth=2, alpha=0.7)\n",
    "        ax.plot(group.sentiment_2, color='tab:orange', linewidth=2, alpha=0.7)\n",
    "    return group"
   ]
  },
  {
   "cell_type": "markdown",
   "metadata": {},
   "source": [
    "# Selecting companies with more than 200 news articles"
   ]
  },
  {
   "cell_type": "code",
   "execution_count": 20,
   "metadata": {},
   "outputs": [],
   "source": [
    "selected_companies = {}\n",
    "for name, group in grouped:\n",
    "    if group.shape[0] > 200:\n",
    "        selected_companies[name] = group"
   ]
  },
  {
   "cell_type": "code",
   "execution_count": 21,
   "metadata": {
    "scrolled": true
   },
   "outputs": [
    {
     "data": {
      "text/html": [
       "<div>\n",
       "<style scoped>\n",
       "    .dataframe tbody tr th:only-of-type {\n",
       "        vertical-align: middle;\n",
       "    }\n",
       "\n",
       "    .dataframe tbody tr th {\n",
       "        vertical-align: top;\n",
       "    }\n",
       "\n",
       "    .dataframe thead th {\n",
       "        text-align: right;\n",
       "    }\n",
       "</style>\n",
       "<table border=\"1\" class=\"dataframe\">\n",
       "  <thead>\n",
       "    <tr style=\"text-align: right;\">\n",
       "      <th></th>\n",
       "      <th>Company</th>\n",
       "      <th>Number of News</th>\n",
       "    </tr>\n",
       "  </thead>\n",
       "  <tbody>\n",
       "    <tr>\n",
       "      <th>0</th>\n",
       "      <td>CIMB</td>\n",
       "      <td>957</td>\n",
       "    </tr>\n",
       "    <tr>\n",
       "      <th>1</th>\n",
       "      <td>GENTING</td>\n",
       "      <td>409</td>\n",
       "    </tr>\n",
       "    <tr>\n",
       "      <th>2</th>\n",
       "      <td>FGV</td>\n",
       "      <td>365</td>\n",
       "    </tr>\n",
       "    <tr>\n",
       "      <th>3</th>\n",
       "      <td>SIME</td>\n",
       "      <td>330</td>\n",
       "    </tr>\n",
       "    <tr>\n",
       "      <th>4</th>\n",
       "      <td>UMW</td>\n",
       "      <td>232</td>\n",
       "    </tr>\n",
       "    <tr>\n",
       "      <th>5</th>\n",
       "      <td>GAMUDA</td>\n",
       "      <td>226</td>\n",
       "    </tr>\n",
       "    <tr>\n",
       "      <th>6</th>\n",
       "      <td>SAPNRG</td>\n",
       "      <td>224</td>\n",
       "    </tr>\n",
       "    <tr>\n",
       "      <th>7</th>\n",
       "      <td>SUNWAY</td>\n",
       "      <td>213</td>\n",
       "    </tr>\n",
       "    <tr>\n",
       "      <th>8</th>\n",
       "      <td>MRCB</td>\n",
       "      <td>203</td>\n",
       "    </tr>\n",
       "    <tr>\n",
       "      <th>9</th>\n",
       "      <td>TM</td>\n",
       "      <td>201</td>\n",
       "    </tr>\n",
       "  </tbody>\n",
       "</table>\n",
       "</div>"
      ],
      "text/plain": [
       "   Company Number of News\n",
       "0     CIMB            957\n",
       "1  GENTING            409\n",
       "2      FGV            365\n",
       "3     SIME            330\n",
       "4      UMW            232\n",
       "5   GAMUDA            226\n",
       "6   SAPNRG            224\n",
       "7   SUNWAY            213\n",
       "8     MRCB            203\n",
       "9       TM            201"
      ]
     },
     "execution_count": 21,
     "metadata": {},
     "output_type": "execute_result"
    }
   ],
   "source": [
    "sel_df = pd.DataFrame(columns=['Company', 'Number of News'])\n",
    "for k, v in selected_companies.items():\n",
    "    sel_df.loc[sel_df.shape[0], :] = (k, v.shape[0])\n",
    "sel_df.sort_values(by='Number of News', ascending=False, inplace=True)\n",
    "sel_df.reset_index(drop=True, inplace=True)\n",
    "sel_df"
   ]
  },
  {
   "cell_type": "markdown",
   "metadata": {},
   "source": [
    "# Plotting how sentiment changes over time"
   ]
  },
  {
   "cell_type": "code",
   "execution_count": 22,
   "metadata": {},
   "outputs": [
    {
     "data": {
      "image/png": "[encoded data removed]",
      "text/plain": [
       "<Figure size 1152x720 with 1 Axes>"
      ]
     },
     "metadata": {},
     "output_type": "display_data"
    }
   ],
   "source": [
    "grp = plot_sentiment(selected_companies['SUNWAY'])"
   ]
  },
  {
   "cell_type": "code",
   "execution_count": 23,
   "metadata": {},
   "outputs": [
    {
     "data": {
      "image/png": "[encoded data removed]",
      "text/plain": [
       "<Figure size 1152x720 with 1 Axes>"
      ]
     },
     "metadata": {},
     "output_type": "display_data"
    }
   ],
   "source": [
    "grp = plot_sentiment(selected_companies['GENTING'], color='#17becf')"
   ]
  },
  {
   "cell_type": "markdown",
   "metadata": {},
   "source": [
    "### The end"
   ]
  },
  {
   "cell_type": "code",
   "execution_count": null,
   "metadata": {},
   "outputs": [],
   "source": []
  }
 ],
 "metadata": {
  "kernelspec": {
   "display_name": "Python 3",
   "language": "python",
   "name": "python3"
  },
  "language_info": {
   "codemirror_mode": {
    "name": "ipython",
    "version": 3
   },
   "file_extension": ".py",
   "mimetype": "text/x-python",
   "name": "python",
   "nbconvert_exporter": "python",
   "pygments_lexer": "ipython3",
   "version": "3.7.3"
  }
 },
 "nbformat": 4,
 "nbformat_minor": 2
}
